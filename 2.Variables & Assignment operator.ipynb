{
 "cells": [
  {
   "cell_type": "code",
   "execution_count": 1,
   "id": "1645535e",
   "metadata": {},
   "outputs": [
    {
     "ename": "SyntaxError",
     "evalue": "invalid syntax (3647018761.py, line 3)",
     "output_type": "error",
     "traceback": [
      "\u001b[1;36m  Cell \u001b[1;32mIn[1], line 3\u001b[1;36m\u001b[0m\n\u001b[1;33m    sum = num1 + num 2\u001b[0m\n\u001b[1;37m                     ^\u001b[0m\n\u001b[1;31mSyntaxError\u001b[0m\u001b[1;31m:\u001b[0m invalid syntax\n"
     ]
    }
   ],
   "source": [
    "num1 =30\n",
    "num2 =20\n",
    "sum = num1 + num 2"
   ]
  },
  {
   "cell_type": "code",
   "execution_count": 2,
   "id": "f250694e",
   "metadata": {},
   "outputs": [
    {
     "ename": "SyntaxError",
     "evalue": "invalid syntax (513925727.py, line 3)",
     "output_type": "error",
     "traceback": [
      "\u001b[1;36m  Cell \u001b[1;32mIn[2], line 3\u001b[1;36m\u001b[0m\n\u001b[1;33m    add = num1 + num 2\u001b[0m\n\u001b[1;37m                     ^\u001b[0m\n\u001b[1;31mSyntaxError\u001b[0m\u001b[1;31m:\u001b[0m invalid syntax\n"
     ]
    }
   ],
   "source": [
    "num1 =30\n",
    "num2 =20\n",
    "add = num1 + num 2"
   ]
  },
  {
   "cell_type": "code",
   "execution_count": 3,
   "id": "53a2ab7a",
   "metadata": {},
   "outputs": [],
   "source": [
    "num1 =30\n",
    "num2 =20\n",
    "sum = num1 + num2"
   ]
  },
  {
   "cell_type": "code",
   "execution_count": 4,
   "id": "17aded9e",
   "metadata": {},
   "outputs": [
    {
     "name": "stdout",
     "output_type": "stream",
     "text": [
      "50\n"
     ]
    }
   ],
   "source": [
    "num1 =30\n",
    "num2 =20\n",
    "sum = num1 + num2\n",
    "print(sum)"
   ]
  },
  {
   "cell_type": "code",
   "execution_count": 5,
   "id": "b58a9af8",
   "metadata": {},
   "outputs": [
    {
     "name": "stdout",
     "output_type": "stream",
     "text": [
      "50\n"
     ]
    }
   ],
   "source": [
    "num1 =30\n",
    "num2 =20\n",
    "add = num1 + num2\n",
    "print(add)"
   ]
  },
  {
   "cell_type": "code",
   "execution_count": 6,
   "id": "21c9f4e6",
   "metadata": {},
   "outputs": [
    {
     "name": "stdout",
     "output_type": "stream",
     "text": [
      "add\n",
      "50\n"
     ]
    }
   ],
   "source": [
    "num1 =30\n",
    "num2 =20\n",
    "add = num1 + num2\n",
    "print(\"add\")\n",
    "print(add)"
   ]
  },
  {
   "cell_type": "code",
   "execution_count": 7,
   "id": "1bf35f74",
   "metadata": {},
   "outputs": [
    {
     "name": "stdout",
     "output_type": "stream",
     "text": [
      "addition is: 50\n"
     ]
    }
   ],
   "source": [
    "num1 =30\n",
    "num2 =20\n",
    "add = num1 + num2\n",
    "print(\"addition is:\",add)\n"
   ]
  },
  {
   "cell_type": "code",
   "execution_count": 8,
   "id": "9113da2d",
   "metadata": {},
   "outputs": [
    {
     "ename": "SyntaxError",
     "evalue": "invalid syntax (2407160331.py, line 1)",
     "output_type": "error",
     "traceback": [
      "\u001b[1;36m  Cell \u001b[1;32mIn[8], line 1\u001b[1;36m\u001b[0m\n\u001b[1;33m    First Name = Aneesh Prasanth T\u001b[0m\n\u001b[1;37m          ^\u001b[0m\n\u001b[1;31mSyntaxError\u001b[0m\u001b[1;31m:\u001b[0m invalid syntax\n"
     ]
    }
   ],
   "source": [
    "First Name = Aneesh Prasanth T"
   ]
  },
  {
   "cell_type": "code",
   "execution_count": 9,
   "id": "99472fe9",
   "metadata": {},
   "outputs": [],
   "source": [
    "FirstName = \"Aneesh Prasanth T\""
   ]
  },
  {
   "cell_type": "code",
   "execution_count": 10,
   "id": "bff339f8",
   "metadata": {},
   "outputs": [],
   "source": [
    "firstName = \"Aneesh Prasanth T\""
   ]
  },
  {
   "cell_type": "code",
   "execution_count": 11,
   "id": "e3ec397c",
   "metadata": {},
   "outputs": [
    {
     "ename": "SyntaxError",
     "evalue": "invalid decimal literal (655975527.py, line 1)",
     "output_type": "error",
     "traceback": [
      "\u001b[1;36m  Cell \u001b[1;32mIn[11], line 1\u001b[1;36m\u001b[0m\n\u001b[1;33m    4firstName = \"Aneesh Prasanth\"\u001b[0m\n\u001b[1;37m    ^\u001b[0m\n\u001b[1;31mSyntaxError\u001b[0m\u001b[1;31m:\u001b[0m invalid decimal literal\n"
     ]
    }
   ],
   "source": [
    "4firstName = \"Aneesh Prasanth\""
   ]
  },
  {
   "cell_type": "code",
   "execution_count": 12,
   "id": "0b808670",
   "metadata": {},
   "outputs": [
    {
     "name": "stdout",
     "output_type": "stream",
     "text": [
      "The Addition of two numbers:\n"
     ]
    }
   ],
   "source": [
    "print(\"The Addition of two numbers:\")"
   ]
  },
  {
   "cell_type": "code",
   "execution_count": 18,
   "id": "6c9b2cdb",
   "metadata": {},
   "outputs": [
    {
     "name": "stdout",
     "output_type": "stream",
     "text": [
      "The Addition of two numbers:\n",
      "The number 1 is: 10\n",
      "The number 2 is: 20\n",
      "The Answer is: 30\n"
     ]
    }
   ],
   "source": [
    "print(\"The Addition of two numbers:\")\n",
    "num1 = 10\n",
    "print(\"The number 1 is:\",num1)\n",
    "num2 = 20\n",
    "print(\"The number 2 is:\",num2)\n",
    "add = num1 + num2\n",
    "print(\"The Answer is:\",add)"
   ]
  },
  {
   "cell_type": "code",
   "execution_count": 19,
   "id": "04430b95",
   "metadata": {},
   "outputs": [
    {
     "name": "stdout",
     "output_type": "stream",
     "text": [
      "Get value from User\n"
     ]
    }
   ],
   "source": [
    "print(\"Get value from User\")"
   ]
  },
  {
   "cell_type": "code",
   "execution_count": 22,
   "id": "db571f88",
   "metadata": {},
   "outputs": [
    {
     "name": "stdout",
     "output_type": "stream",
     "text": [
      "Enter number 1:30\n"
     ]
    }
   ],
   "source": [
    "num1 = input(\"Enter number 1:\")"
   ]
  },
  {
   "cell_type": "code",
   "execution_count": 23,
   "id": "e86c91a1",
   "metadata": {},
   "outputs": [
    {
     "name": "stdout",
     "output_type": "stream",
     "text": [
      "Enter number 2:50\n"
     ]
    }
   ],
   "source": [
    "num2 = input(\"Enter number 2:\")"
   ]
  },
  {
   "cell_type": "code",
   "execution_count": 26,
   "id": "2311fa02",
   "metadata": {},
   "outputs": [
    {
     "name": "stdout",
     "output_type": "stream",
     "text": [
      "Get value from User\n",
      "Enter number 1:30\n",
      "Enter number 2:40\n",
      "The addition of 2 number is 3040\n"
     ]
    }
   ],
   "source": [
    "print(\"Get value from User\")\n",
    "num1 = input(\"Enter number 1:\")\n",
    "num2 = input(\"Enter number 2:\")\n",
    "add = num1 + num2\n",
    "print(\"The addition of 2 number is\",add)"
   ]
  },
  {
   "cell_type": "code",
   "execution_count": 27,
   "id": "7f17c18c",
   "metadata": {},
   "outputs": [
    {
     "name": "stdout",
     "output_type": "stream",
     "text": [
      "Get value from User\n",
      "Enter number 1:30\n",
      "Enter number 2:40\n",
      "The addition of 2 number is 70\n"
     ]
    }
   ],
   "source": [
    "print(\"Get value from User\")\n",
    "num1 = int(input(\"Enter number 1:\"))\n",
    "num2 = int(input(\"Enter number 2:\"))\n",
    "add = num1 + num2\n",
    "print(\"The addition of 2 number is\",add)"
   ]
  },
  {
   "cell_type": "code",
   "execution_count": 28,
   "id": "7df7eb70",
   "metadata": {},
   "outputs": [],
   "source": [
    "word = \"hello\""
   ]
  },
  {
   "cell_type": "code",
   "execution_count": 29,
   "id": "dbadbcba",
   "metadata": {},
   "outputs": [
    {
     "ename": "NameError",
     "evalue": "name 'hello' is not defined",
     "output_type": "error",
     "traceback": [
      "\u001b[1;31m---------------------------------------------------------------------------\u001b[0m",
      "\u001b[1;31mNameError\u001b[0m                                 Traceback (most recent call last)",
      "Cell \u001b[1;32mIn[29], line 1\u001b[0m\n\u001b[1;32m----> 1\u001b[0m word \u001b[38;5;241m=\u001b[39m hello\n",
      "\u001b[1;31mNameError\u001b[0m: name 'hello' is not defined"
     ]
    }
   ],
   "source": [
    "word = hello"
   ]
  },
  {
   "cell_type": "code",
   "execution_count": 30,
   "id": "f6ec7a02",
   "metadata": {},
   "outputs": [],
   "source": [
    "word = 'Hello'"
   ]
  },
  {
   "cell_type": "code",
   "execution_count": null,
   "id": "b2e111b0",
   "metadata": {},
   "outputs": [],
   "source": []
  }
 ],
 "metadata": {
  "kernelspec": {
   "display_name": "Python 3 (ipykernel)",
   "language": "python",
   "name": "python3"
  },
  "language_info": {
   "codemirror_mode": {
    "name": "ipython",
    "version": 3
   },
   "file_extension": ".py",
   "mimetype": "text/x-python",
   "name": "python",
   "nbconvert_exporter": "python",
   "pygments_lexer": "ipython3",
   "version": "3.11.3"
  }
 },
 "nbformat": 4,
 "nbformat_minor": 5
}
